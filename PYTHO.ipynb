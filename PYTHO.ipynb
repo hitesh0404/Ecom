{
 "cells": [
  {
   "cell_type": "code",
   "execution_count": 15,
   "metadata": {},
   "outputs": [
    {
     "name": "stdout",
     "output_type": "stream",
     "text": [
      "2 X 1 = 2\n",
      "2 X 2 = 4\n",
      "2 X 3 = 6\n",
      "2 X 4 = 8\n",
      "2 X 5 = 10\n",
      "2 X 6 = 12\n",
      "2 X 7 = 14\n",
      "2 X 8 = 16\n",
      "2 X 9 = 18\n",
      "2 X 10 = 20\n"
     ]
    }
   ],
   "source": [
    "for i in range(1,11,1):\n",
    "    print(\"2 X {} = {}\".format(i,i*2))"
   ]
  },
  {
   "cell_type": "code",
   "execution_count": 19,
   "metadata": {},
   "outputs": [
    {
     "name": "stdout",
     "output_type": "stream",
     "text": [
      "82\n",
      "84\n",
      "86\n",
      "88\n",
      "90\n",
      "92\n",
      "94\n",
      "96\n"
     ]
    }
   ],
   "source": [
    "for i in range(82,97,2):\n",
    "    print(i)"
   ]
  },
  {
   "cell_type": "code",
   "execution_count": null,
   "metadata": {},
   "outputs": [],
   "source": [
    "while (condition):\n",
    "    # code to be executed"
   ]
  },
  {
   "cell_type": "code",
   "execution_count": 20,
   "metadata": {},
   "outputs": [
    {
     "name": "stdout",
     "output_type": "stream",
     "text": [
      "Pankaj\n",
      "Pankaj\n",
      "Pankaj\n",
      "Pankaj\n",
      "Pankaj\n",
      "Pankaj\n",
      "Pankaj\n",
      "Pankaj\n",
      "Pankaj\n",
      "Pankaj\n",
      "\n"
     ]
    }
   ],
   "source": [
    "print('Pankaj\\n'*10)"
   ]
  },
  {
   "cell_type": "code",
   "execution_count": 24,
   "metadata": {},
   "outputs": [
    {
     "name": "stdout",
     "output_type": "stream",
     "text": [
      " 2 X 1 = 2\n",
      " 2 X 2 = 4\n",
      " 2 X 3 = 6\n",
      " 2 X 4 = 8\n",
      " 2 X 5 = 10\n",
      " 2 X 6 = 12\n",
      " 2 X 7 = 14\n",
      " 2 X 8 = 16\n",
      " 2 X 9 = 18\n",
      " 2 X 10 = 20\n"
     ]
    }
   ],
   "source": [
    "i = 1                                       #assinment\n",
    "while(i<11):                                 #condition\n",
    "    print(f' 2 X {i} = {2*i}')               #code\n",
    "    i=i+1                                   #increment/decrement"
   ]
  },
  {
   "cell_type": "code",
   "execution_count": 34,
   "metadata": {},
   "outputs": [
    {
     "name": "stdout",
     "output_type": "stream",
     "text": [
      "153 is not a prime number\n"
     ]
    }
   ],
   "source": [
    "num = int(input('enter a num to check weather its prime or not'))\n",
    "for i in range(2,num):\n",
    "    if num % i == 0 and i != 1 and i != num:\n",
    "        print(num,\"is not a prime number\")\n",
    "        break\n",
    "    elif i+1 == num:\n",
    "        print(num,\"is a prime number\")\n"
   ]
  },
  {
   "cell_type": "code",
   "execution_count": 47,
   "metadata": {},
   "outputs": [
    {
     "name": "stdout",
     "output_type": "stream",
     "text": [
      "prime\n"
     ]
    }
   ],
   "source": [
    "num = int(input('enter a num to check weather its prime or not'))\n",
    "count = 0\n",
    "for i in range(1,num+1):\n",
    "    if num%i == 0:\n",
    "        count += 1\n",
    "if count <= 2:\n",
    "    print('prime')\n",
    "else:\n",
    "    print('not prime')\n"
   ]
  },
  {
   "cell_type": "code",
   "execution_count": 7,
   "metadata": {},
   "outputs": [
    {
     "name": "stdout",
     "output_type": "stream",
     "text": [
      "151 is prime\n",
      "157 is prime\n",
      "163 is prime\n",
      "167 is prime\n",
      "173 is prime\n",
      "179 is prime\n"
     ]
    }
   ],
   "source": [
    "\n",
    "for i in range(151,180):\n",
    "    count=0\n",
    "    for j in range(1,i+1):\n",
    "        if i%j==0:\n",
    "            count+=1\n",
    "    if count<=2:\n",
    "        print(i,'is prime')"
   ]
  },
  {
   "cell_type": "code",
   "execution_count": 9,
   "metadata": {},
   "outputs": [
    {
     "name": "stdout",
     "output_type": "stream",
     "text": [
      "151 is prime\n",
      "157 is prime\n",
      "163 is prime\n",
      "167 is prime\n",
      "173 is prime\n",
      "179 is prime\n"
     ]
    }
   ],
   "source": [
    "i=151\n",
    "while i<180:\n",
    "    count=0\n",
    "    j=1\n",
    "    while j<=i:\n",
    "        if i%j==0:\n",
    "            count+=1\n",
    "        j=j+1\n",
    "    if count<=2:\n",
    "        print(i,'is prime')\n",
    "    i=i+1\n",
    "    "
   ]
  },
  {
   "cell_type": "code",
   "execution_count": 12,
   "metadata": {},
   "outputs": [
    {
     "name": "stdout",
     "output_type": "stream",
     "text": [
      "0\n",
      "1\n",
      "2\n",
      "3\n",
      "4\n"
     ]
    }
   ],
   "source": [
    "for i in range(10):\n",
    "    print(i)\n",
    "    if i==4:\n",
    "        break\n",
    "    "
   ]
  },
  {
   "cell_type": "code",
   "execution_count": 19,
   "metadata": {},
   "outputs": [
    {
     "name": "stdout",
     "output_type": "stream",
     "text": [
      "1\n",
      "2\n",
      "3\n",
      "4\n",
      "5\n",
      "6\n",
      "7\n",
      "8\n",
      "9\n",
      "10\n",
      "11\n"
     ]
    }
   ],
   "source": [
    "i=0\n",
    "while(True):\n",
    "    \n",
    "    \n",
    "    i=i+1\n",
    "    print(i)\n",
    "    if i==11:\n",
    "        break"
   ]
  },
  {
   "cell_type": "code",
   "execution_count": 16,
   "metadata": {},
   "outputs": [
    {
     "name": "stdout",
     "output_type": "stream",
     "text": [
      "1\n",
      "2\n",
      "3\n",
      "4\n",
      "5\n",
      "6\n"
     ]
    }
   ],
   "source": [
    "for i in range(1,1000):\n",
    "    if input('enter to break'):\n",
    "        break\n",
    "    print(i)"
   ]
  },
  {
   "cell_type": "code",
   "execution_count": 29,
   "metadata": {},
   "outputs": [
    {
     "name": "stdout",
     "output_type": "stream",
     "text": [
      "i=1,j=1\t\t\ti=1,j=2\t\t\ti=1,j=3\t\t\t\n",
      "i=2,j=1\t\t\ti=2,j=2\t\t\ti=2,j=3\t\t\t\n",
      "3\t\t\t\n",
      "i=4,j=1\t\t\ti=4,j=2\t\t\ti=4,j=3\t\t\t\n"
     ]
    }
   ],
   "source": [
    "for i in range(1,5):\n",
    "    for j in range(1,4):\n",
    "        if i==3:\n",
    "            print(i,end='\\t\\t\\t')\n",
    "            break\n",
    "        print(f'i={i},j={j}',sep=',',end='\\t\\t\\t')\n",
    "        \n",
    "    print()"
   ]
  },
  {
   "cell_type": "code",
   "execution_count": 20,
   "metadata": {},
   "outputs": [
    {
     "name": "stdout",
     "output_type": "stream",
     "text": [
      "                     \n",
      "                     *\n",
      "                    * *\n",
      "                   * * *\n",
      "                  * * * *\n",
      "                 * * * * *\n",
      "                * * * * * *\n",
      "               * * * * * * *\n",
      "              * * * * * * * *\n",
      "             * * * * * * * * *\n",
      "            * * * * * * * * * *\n",
      "           * * * * * * * * * * *\n",
      "          * * * * * * * * * * * *\n",
      "         * * * * * * * * * * * * *\n",
      "        * * * * * * * * * * * * * *\n",
      "       * * * * * * * * * * * * * * *\n",
      "      * * * * * * * * * * * * * * * *\n",
      "     * * * * * * * * * * * * * * * * *\n",
      "    * * * * * * * * * * * * * * * * * *\n",
      "   * * * * * * * * * * * * * * * * * * *\n",
      "                 ********\n",
      "                 ********\n",
      "                 ********\n",
      "                 ********\n",
      "                 ********\n",
      "                 ********\n",
      "                 ********\n",
      "                 ********\n"
     ]
    }
   ],
   "source": [
    "num=20\n",
    "for i in range(num):\n",
    "    print(' '*(num-i) , ' *'*i)\n",
    "for i in range(int(num*0.4)):\n",
    "\n",
    "    print(' '*int(num*0.8) , '**'*int(num*.2))"
   ]
  },
  {
   "cell_type": "code",
   "execution_count": 33,
   "metadata": {},
   "outputs": [],
   "source": [
    "#decimal to hexa\n",
    "def deci_to_any(num,any):\n",
    "    result=''\n",
    "    while(num>0):\n",
    "        v = int(num%any)\n",
    "        if v>9:\n",
    "            v= chr(v+55)\n",
    "        result  =str(v) +result\n",
    "        num = int(num/any)\n",
    "    return (result)\n",
    "    # print(result)"
   ]
  },
  {
   "cell_type": "code",
   "execution_count": 34,
   "metadata": {},
   "outputs": [
    {
     "data": {
      "text/plain": [
       "'F'"
      ]
     },
     "execution_count": 34,
     "metadata": {},
     "output_type": "execute_result"
    }
   ],
   "source": [
    "deci_to_any(15,16)"
   ]
  },
  {
   "cell_type": "code",
   "execution_count": 105,
   "metadata": {},
   "outputs": [
    {
     "name": "stdout",
     "output_type": "stream",
     "text": [
      "5\n"
     ]
    }
   ],
   "source": [
    "num = 12\n",
    "result = 0\n",
    "v = int(num/8)\n",
    "rem = int(num%8)\n",
    "result = result + v+rem\n",
    "print(result)\n"
   ]
  },
  {
   "cell_type": "code",
   "execution_count": 6,
   "metadata": {},
   "outputs": [
    {
     "data": {
      "text/plain": [
       "64"
      ]
     },
     "execution_count": 6,
     "metadata": {},
     "output_type": "execute_result"
    }
   ],
   "source": [
    "0o100\n"
   ]
  },
  {
   "cell_type": "code",
   "execution_count": 4,
   "metadata": {},
   "outputs": [
    {
     "data": {
      "text/plain": [
       "1"
      ]
     },
     "execution_count": 4,
     "metadata": {},
     "output_type": "execute_result"
    }
   ],
   "source": [
    "1%8"
   ]
  },
  {
   "cell_type": "code",
   "execution_count": 5,
   "metadata": {},
   "outputs": [
    {
     "data": {
      "text/plain": [
       "68"
      ]
     },
     "execution_count": 5,
     "metadata": {},
     "output_type": "execute_result"
    }
   ],
   "source": [
    "8*8 +4\n"
   ]
  },
  {
   "cell_type": "code",
   "execution_count": 118,
   "metadata": {},
   "outputs": [],
   "source": [
    "def AnyToDecimal(num,from_base):\n",
    "    decimal_value = 0\n",
    "    base = 1\n",
    "    while (num):\n",
    "        last_digit = num % 10\n",
    "        # print('last digit',last_digit, 'base' ,base)\n",
    "        num = int(num / 10)\n",
    "        print(f'''\\n\n",
    "                  decimal : {decimal_value} \\n\n",
    "                  base:      {base} \\n\n",
    "                  last_digit:{last_digit}    ''')\n",
    "        decimal_value =decimal_value+ last_digit * base\n",
    "        \n",
    "        base = base * from_base\n",
    "    print(\"The decimal value is :\",decimal_value)"
   ]
  },
  {
   "cell_type": "code",
   "execution_count": 120,
   "metadata": {},
   "outputs": [
    {
     "name": "stdout",
     "output_type": "stream",
     "text": [
      "\n",
      "\n",
      "                  decimal : 0 \n",
      "\n",
      "                  base:      1 \n",
      "\n",
      "                  last_digit:1    \n",
      "\n",
      "\n",
      "                  decimal : 1 \n",
      "\n",
      "                  base:      2 \n",
      "\n",
      "                  last_digit:1    \n",
      "\n",
      "\n",
      "                  decimal : 3 \n",
      "\n",
      "                  base:      4 \n",
      "\n",
      "                  last_digit:1    \n",
      "The decimal value is : 7\n"
     ]
    }
   ],
   "source": [
    "AnyToDecimal(111,2)"
   ]
  },
  {
   "cell_type": "code",
   "execution_count": 140,
   "metadata": {},
   "outputs": [],
   "source": [
    "def AnyToDecimal(num:str,from_base:int)->any:\n",
    "    from_base=int(from_base)\n",
    "    decimal_value = 0\n",
    "    base = 1\n",
    "    num=str(num)\n",
    "    while (num):\n",
    "        for i in num[::-1]:\n",
    "                if i in '0123456789':\n",
    "                    last_digit=int(i)\n",
    "                else:\n",
    "                    last_digit =  ord(i)-55\n",
    "                print('last digit',last_digit, 'base' ,base)\n",
    "                num = num[:-1]\n",
    "                decimal_value += last_digit * base\n",
    "                base = base * from_base\n",
    "    print(\"The decimal value is :\",decimal_value)\n",
    "    return decimal_value"
   ]
  },
  {
   "cell_type": "code",
   "execution_count": 141,
   "metadata": {},
   "outputs": [
    {
     "name": "stdout",
     "output_type": "stream",
     "text": [
      "last digit 12 base 1\n",
      "The decimal value is : 12\n"
     ]
    },
    {
     "ename": "TypeError",
     "evalue": "AnyToDecimal() got multiple values for argument 'num'",
     "output_type": "error",
     "traceback": [
      "\u001b[1;31m---------------------------------------------------------------------------\u001b[0m",
      "\u001b[1;31mTypeError\u001b[0m                                 Traceback (most recent call last)",
      "Cell \u001b[1;32mIn[141], line 2\u001b[0m\n\u001b[0;32m      1\u001b[0m AnyToDecimal(\u001b[38;5;124m'\u001b[39m\u001b[38;5;124mC\u001b[39m\u001b[38;5;124m'\u001b[39m,\u001b[38;5;241m16\u001b[39m)\n\u001b[1;32m----> 2\u001b[0m \u001b[43mAnyToDecimal\u001b[49m\u001b[43m(\u001b[49m\u001b[38;5;124;43m'\u001b[39;49m\u001b[38;5;124;43m2\u001b[39;49m\u001b[38;5;124;43m'\u001b[39;49m\u001b[43m,\u001b[49m\u001b[43mnum\u001b[49m\u001b[38;5;241;43m=\u001b[39;49m\u001b[38;5;241;43m10\u001b[39;49m\u001b[43m)\u001b[49m\n\u001b[0;32m      3\u001b[0m AnyToDecimal(\u001b[38;5;124m'\u001b[39m\u001b[38;5;124mA\u001b[39m\u001b[38;5;124m'\u001b[39m,)\n",
      "\u001b[1;31mTypeError\u001b[0m: AnyToDecimal() got multiple values for argument 'num'"
     ]
    }
   ],
   "source": [
    "AnyToDecimal('C',16)\n",
    "AnyToDecimal(100,'2')\n",
    "AnyToDecimal('A',)"
   ]
  },
  {
   "cell_type": "code",
   "execution_count": 60,
   "metadata": {},
   "outputs": [
    {
     "data": {
      "text/plain": [
       "False"
      ]
     },
     "execution_count": 60,
     "metadata": {},
     "output_type": "execute_result"
    }
   ],
   "source": [
    "'1' in range(10)\n"
   ]
  },
  {
   "cell_type": "code",
   "execution_count": 109,
   "metadata": {},
   "outputs": [
    {
     "name": "stdout",
     "output_type": "stream",
     "text": [
      "728282\n"
     ]
    }
   ],
   "source": [
    "# 728282 \n",
    "print(7*100000+ 2* 10000 + 8* 1000+ 2* 100+  8*  10 +2)"
   ]
  },
  {
   "cell_type": "code",
   "execution_count": 137,
   "metadata": {},
   "outputs": [
    {
     "data": {
      "text/plain": [
       "True"
      ]
     },
     "execution_count": 137,
     "metadata": {},
     "output_type": "execute_result"
    }
   ],
   "source": [
    "ord('9') in range(47,58)"
   ]
  },
  {
   "cell_type": "code",
   "execution_count": 139,
   "metadata": {},
   "outputs": [
    {
     "data": {
      "text/plain": [
       "True"
      ]
     },
     "execution_count": 139,
     "metadata": {},
     "output_type": "execute_result"
    }
   ],
   "source": [
    "'9' in '0123456789'"
   ]
  },
  {
   "cell_type": "code",
   "execution_count": 142,
   "metadata": {},
   "outputs": [],
   "source": [
    "a=10;b=12;c=14"
   ]
  },
  {
   "cell_type": "code",
   "execution_count": 145,
   "metadata": {},
   "outputs": [],
   "source": [
    "a=b=c=10"
   ]
  },
  {
   "cell_type": "code",
   "execution_count": 155,
   "metadata": {},
   "outputs": [
    {
     "name": "stdout",
     "output_type": "stream",
     "text": [
      "10\n"
     ]
    }
   ],
   "source": [
    "a=10\n",
    "b=20\n",
    "temp =a\n",
    "a=b\n",
    "b=temp\n",
    "print(b)\n"
   ]
  },
  {
   "cell_type": "code",
   "execution_count": 167,
   "metadata": {},
   "outputs": [],
   "source": [
    "*b,a,c,d,e = {10,20,30,40}\n",
    "# a,b = b,a"
   ]
  },
  {
   "cell_type": "code",
   "execution_count": 165,
   "metadata": {},
   "outputs": [
    {
     "data": {
      "text/plain": [
       "[]"
      ]
     },
     "execution_count": 165,
     "metadata": {},
     "output_type": "execute_result"
    }
   ],
   "source": [
    "b"
   ]
  },
  {
   "cell_type": "code",
   "execution_count": 170,
   "metadata": {},
   "outputs": [],
   "source": [
    "def sum(*num):\n",
    "    result = 0\n",
    "    print(type(num))\n",
    "    for i in num:\n",
    "        result = i + result\n",
    "    return result"
   ]
  },
  {
   "cell_type": "code",
   "execution_count": 176,
   "metadata": {},
   "outputs": [
    {
     "name": "stdout",
     "output_type": "stream",
     "text": [
      "<class 'tuple'>\n"
     ]
    },
    {
     "data": {
      "text/plain": [
       "0"
      ]
     },
     "execution_count": 176,
     "metadata": {},
     "output_type": "execute_result"
    }
   ],
   "source": []
  },
  {
   "cell_type": "code",
   "execution_count": 177,
   "metadata": {},
   "outputs": [],
   "source": [
    "def factorial(num):\n",
    "    fact = 1\n",
    "    for i in range(1, num + 1):\n",
    "        fact =fact*i\n",
    "    return fact"
   ]
  },
  {
   "cell_type": "code",
   "execution_count": 178,
   "metadata": {},
   "outputs": [
    {
     "data": {
      "text/plain": [
       "24"
      ]
     },
     "execution_count": 178,
     "metadata": {},
     "output_type": "execute_result"
    }
   ],
   "source": [
    "factorial(4)"
   ]
  },
  {
   "cell_type": "code",
   "execution_count": 186,
   "metadata": {},
   "outputs": [],
   "source": [
    "def foo(num):\n",
    "    return num**2"
   ]
  },
  {
   "cell_type": "code",
   "execution_count": 187,
   "metadata": {},
   "outputs": [
    {
     "data": {
      "text/plain": [
       "9"
      ]
     },
     "execution_count": 187,
     "metadata": {},
     "output_type": "execute_result"
    }
   ],
   "source": [
    "foo(3)"
   ]
  },
  {
   "cell_type": "code",
   "execution_count": 189,
   "metadata": {},
   "outputs": [],
   "source": [
    "def factorial(num):\n",
    "    if num is None:\n",
    "        return 1\n",
    "    else:\n",
    "        return num*factorial(num-1)"
   ]
  },
  {
   "cell_type": "code",
   "execution_count": 190,
   "metadata": {},
   "outputs": [
    {
     "ename": "RecursionError",
     "evalue": "maximum recursion depth exceeded",
     "output_type": "error",
     "traceback": [
      "\u001b[1;31m---------------------------------------------------------------------------\u001b[0m",
      "\u001b[1;31mRecursionError\u001b[0m                            Traceback (most recent call last)",
      "Cell \u001b[1;32mIn[190], line 1\u001b[0m\n\u001b[1;32m----> 1\u001b[0m \u001b[43mfactorial\u001b[49m\u001b[43m(\u001b[49m\u001b[38;5;241;43m34\u001b[39;49m\u001b[43m)\u001b[49m\n",
      "Cell \u001b[1;32mIn[189], line 5\u001b[0m, in \u001b[0;36mfactorial\u001b[1;34m(num)\u001b[0m\n\u001b[0;32m      3\u001b[0m     \u001b[38;5;28;01mreturn\u001b[39;00m \u001b[38;5;241m1\u001b[39m\n\u001b[0;32m      4\u001b[0m \u001b[38;5;28;01melse\u001b[39;00m:\n\u001b[1;32m----> 5\u001b[0m     \u001b[38;5;28;01mreturn\u001b[39;00m num\u001b[38;5;241m*\u001b[39m\u001b[43mfactorial\u001b[49m\u001b[43m(\u001b[49m\u001b[43mnum\u001b[49m\u001b[38;5;241;43m-\u001b[39;49m\u001b[38;5;241;43m1\u001b[39;49m\u001b[43m)\u001b[49m\n",
      "Cell \u001b[1;32mIn[189], line 5\u001b[0m, in \u001b[0;36mfactorial\u001b[1;34m(num)\u001b[0m\n\u001b[0;32m      3\u001b[0m     \u001b[38;5;28;01mreturn\u001b[39;00m \u001b[38;5;241m1\u001b[39m\n\u001b[0;32m      4\u001b[0m \u001b[38;5;28;01melse\u001b[39;00m:\n\u001b[1;32m----> 5\u001b[0m     \u001b[38;5;28;01mreturn\u001b[39;00m num\u001b[38;5;241m*\u001b[39m\u001b[43mfactorial\u001b[49m\u001b[43m(\u001b[49m\u001b[43mnum\u001b[49m\u001b[38;5;241;43m-\u001b[39;49m\u001b[38;5;241;43m1\u001b[39;49m\u001b[43m)\u001b[49m\n",
      "    \u001b[1;31m[... skipping similar frames: factorial at line 5 (2974 times)]\u001b[0m\n",
      "Cell \u001b[1;32mIn[189], line 5\u001b[0m, in \u001b[0;36mfactorial\u001b[1;34m(num)\u001b[0m\n\u001b[0;32m      3\u001b[0m     \u001b[38;5;28;01mreturn\u001b[39;00m \u001b[38;5;241m1\u001b[39m\n\u001b[0;32m      4\u001b[0m \u001b[38;5;28;01melse\u001b[39;00m:\n\u001b[1;32m----> 5\u001b[0m     \u001b[38;5;28;01mreturn\u001b[39;00m num\u001b[38;5;241m*\u001b[39m\u001b[43mfactorial\u001b[49m\u001b[43m(\u001b[49m\u001b[43mnum\u001b[49m\u001b[38;5;241;43m-\u001b[39;49m\u001b[38;5;241;43m1\u001b[39;49m\u001b[43m)\u001b[49m\n",
      "\u001b[1;31mRecursionError\u001b[0m: maximum recursion depth exceeded"
     ]
    }
   ],
   "source": [
    "factorial(34)"
   ]
  },
  {
   "cell_type": "code",
   "execution_count": 13,
   "metadata": {},
   "outputs": [],
   "source": [
    "def AnyToDecimal(num,from_base):\n",
    "    decimal_value = 0\n",
    "    base = 1\n",
    "    while (num):\n",
    "        last_digit = num % 10\n",
    "        num = int(num / 10)\n",
    "        # print(f'''\\n\n",
    "        #           decimal : {decimal_value} \\n\n",
    "        #           base:      {base} \\n\n",
    "        #           last_digit:{last_digit}    ''')\n",
    "        decimal_value =decimal_value+ last_digit * base\n",
    "        base = base * from_base\n",
    "    print(\"The decimal value is :\",decimal_value)"
   ]
  },
  {
   "cell_type": "code",
   "execution_count": 22,
   "metadata": {},
   "outputs": [],
   "source": [
    "def my_decorator(func):\n",
    "    def wrapper(a,b,*args,**kwargs):\n",
    "        if b==16:\n",
    "            return 'con\\'t convert'\n",
    "        else:\n",
    "            func(a,b,*args,**kwargs)\n",
    "            return 'This is my Decorator'\n",
    "    return wrapper\n",
    "\n",
    "AnyToDecimal_my = my_decorator(AnyToDecimal)"
   ]
  },
  {
   "cell_type": "code",
   "execution_count": 24,
   "metadata": {},
   "outputs": [
    {
     "name": "stdout",
     "output_type": "stream",
     "text": [
      "The decimal value is : 12\n"
     ]
    },
    {
     "data": {
      "text/plain": [
       "'This is my Decorator'"
      ]
     },
     "execution_count": 24,
     "metadata": {},
     "output_type": "execute_result"
    }
   ],
   "source": [
    "AnyToDecimal_my(1100,2)"
   ]
  },
  {
   "cell_type": "code",
   "execution_count": 86,
   "metadata": {},
   "outputs": [],
   "source": [
    "@one_more_decorator\n",
    "def foo(a,b):\n",
    "    print('here')\n",
    "    return a+b"
   ]
  },
  {
   "cell_type": "code",
   "execution_count": 85,
   "metadata": {},
   "outputs": [],
   "source": [
    "def one_more_decorator(func):\n",
    "    def wrapper(*args,**kwargs):\n",
    "        print('welcome to my decorator')\n",
    "        \n",
    "        print('bye thanks for visiting')\n",
    "        return func(*args,**kwargs)\n",
    "    return wrapper\n",
    "# foo=one_more_decorator(foo)\n"
   ]
  },
  {
   "cell_type": "code",
   "execution_count": 87,
   "metadata": {},
   "outputs": [
    {
     "name": "stdout",
     "output_type": "stream",
     "text": [
      "welcome to my decorator\n",
      "bye thanks for visiting\n",
      "here\n",
      "5\n"
     ]
    }
   ],
   "source": [
    "print(foo(2,3))"
   ]
  },
  {
   "cell_type": "code",
   "execution_count": 35,
   "metadata": {},
   "outputs": [],
   "source": [
    "def table(num,start=1,stop=10):\n",
    "    if stop<start:\n",
    "        return 'that\\'s Harsh'  \n",
    "    if start == stop:\n",
    "        pass\n",
    "    else:\n",
    "        print(f'{num} X {start} = {start*num}')\n",
    "        return table(num,start+1,stop)"
   ]
  },
  {
   "cell_type": "code",
   "execution_count": 42,
   "metadata": {},
   "outputs": [],
   "source": [
    "for i in range(4):\n",
    "    pass"
   ]
  },
  {
   "cell_type": "code",
   "execution_count": 43,
   "metadata": {},
   "outputs": [],
   "source": [
    "*a,b=4,3,2,2"
   ]
  },
  {
   "cell_type": "code",
   "execution_count": 44,
   "metadata": {},
   "outputs": [
    {
     "data": {
      "text/plain": [
       "[4, 3, 2]"
      ]
     },
     "execution_count": 44,
     "metadata": {},
     "output_type": "execute_result"
    }
   ],
   "source": [
    "a"
   ]
  },
  {
   "cell_type": "code",
   "execution_count": 81,
   "metadata": {},
   "outputs": [],
   "source": [
    "def sum_of_digit(num):\n",
    "    return sum(int(digit) for digit in str(num))\n",
    "\n",
    "def sum_of_digit(num,index=0):\n",
    "    num=str(num)\n",
    "    if not num[index:]:\n",
    "        return 0\n",
    "    else:\n",
    "        val=int(num[index])\n",
    "        return val + sum_of_digit(num,index+1)"
   ]
  },
  {
   "cell_type": "code",
   "execution_count": 85,
   "metadata": {},
   "outputs": [],
   "source": [
    "a = lambda x,y,z : x*y*z"
   ]
  },
  {
   "cell_type": "code",
   "execution_count": 86,
   "metadata": {},
   "outputs": [
    {
     "data": {
      "text/plain": [
       "6"
      ]
     },
     "execution_count": 86,
     "metadata": {},
     "output_type": "execute_result"
    }
   ],
   "source": [
    "a(1,2,3)"
   ]
  },
  {
   "cell_type": "code",
   "execution_count": 99,
   "metadata": {},
   "outputs": [],
   "source": [
    "t = [1,2,3,4,5,6,7,8]\n",
    "\n",
    "for i in range(len(t)):#  0-8\n",
    "    t[i]=t[i]-2\n",
    "\n",
    "# for i in range(len(t)):\n",
    "#     a=lambda x : x**2\n",
    "#     t[i]=a(t[i])\n",
    "    "
   ]
  },
  {
   "cell_type": "code",
   "execution_count": 100,
   "metadata": {},
   "outputs": [
    {
     "data": {
      "text/plain": [
       "[-1, 0, 1, 2, 3, 4, 5, 6]"
      ]
     },
     "execution_count": 100,
     "metadata": {},
     "output_type": "execute_result"
    }
   ],
   "source": [
    "t"
   ]
  },
  {
   "cell_type": "code",
   "execution_count": 113,
   "metadata": {},
   "outputs": [
    {
     "name": "stdout",
     "output_type": "stream",
     "text": [
      "before 0 11\t\tafter 0 121\n",
      "before 1 12\t\tafter 1 144\n",
      "before 2 13\t\tafter 2 169\n",
      "before 3 14\t\tafter 3 196\n",
      "before 4 15\t\tafter 4 225\n",
      "before 5 16\t\tafter 5 256\n",
      "before 6 17\t\tafter 6 289\n",
      "before 7 18\t\tafter 7 324\n"
     ]
    },
    {
     "data": {
      "text/plain": [
       "[121, 144, 169, 196, 225, 256, 289, 324]"
      ]
     },
     "execution_count": 113,
     "metadata": {},
     "output_type": "execute_result"
    }
   ],
   "source": [
    "t = [11,12,13,14,15,16,17,18]\n",
    "for i in range(len(t)):\n",
    "    print('before',i,t[i],end='\\t\\t')\n",
    "    t[i] = t[i]**2\n",
    "    print('after',i,t[i])\n",
    "\n",
    "\n",
    "t = [11,12,13,14,15,16,17,18]\n",
    "\n",
    "for i in range(len(t)):\n",
    "    a=lambda x:x**2\n",
    "    t[i]=a(t[i])\n",
    "t\n"
   ]
  },
  {
   "cell_type": "code",
   "execution_count": 118,
   "metadata": {},
   "outputs": [],
   "source": [
    "def pow(n):\n",
    "    return n ** 2"
   ]
  },
  {
   "cell_type": "code",
   "execution_count": 132,
   "metadata": {},
   "outputs": [],
   "source": [
    "t = [11,-12,13,-14,15,16,-17,18]\n",
    "t=list(filter(lambda x:True if x>0 else False,t))"
   ]
  },
  {
   "cell_type": "code",
   "execution_count": 171,
   "metadata": {},
   "outputs": [],
   "source": [
    "def counter():\n",
    "    sum = 0\n",
    "    def innner(x):\n",
    "        nonlocal sum\n",
    "        sum += x\n",
    "        return sum\n",
    "    return innner\n",
    "\n",
    "# count=times()\n",
    "# print(count(3))  # Outputs: 4\n",
    "# triple=times(3)"
   ]
  },
  {
   "cell_type": "code",
   "execution_count": 287,
   "metadata": {},
   "outputs": [],
   "source": [
    "count1=counter()\n",
    "count2=counter()\n",
    "count3=counter()\n"
   ]
  },
  {
   "cell_type": "code",
   "execution_count": 298,
   "metadata": {},
   "outputs": [
    {
     "data": {
      "text/plain": [
       "(<cell at 0x000002AB529F2BF0: int object at 0x00007FFEA7551998>,)"
      ]
     },
     "execution_count": 298,
     "metadata": {},
     "output_type": "execute_result"
    }
   ],
   "source": [
    "count2.__closure__"
   ]
  },
  {
   "cell_type": "code",
   "execution_count": 272,
   "metadata": {},
   "outputs": [],
   "source": [
    "a=10\n",
    "def foo(x):\n",
    "    summer=0\n",
    "    def inner():\n",
    "        global a\n",
    "        nonlocal summer\n",
    "        b=10\n",
    "        a='inside inner function'\n",
    "        summer='inside inner function'\n",
    "        print(summer)\n",
    "    inner()\n",
    "    print(summer)\n",
    "    return 'here'\n"
   ]
  },
  {
   "cell_type": "code",
   "execution_count": 299,
   "metadata": {},
   "outputs": [],
   "source": [
    "a = lambda x,y,z:x+y+z"
   ]
  },
  {
   "cell_type": "code",
   "execution_count": 300,
   "metadata": {},
   "outputs": [
    {
     "data": {
      "text/plain": [
       "6"
      ]
     },
     "execution_count": 300,
     "metadata": {},
     "output_type": "execute_result"
    }
   ],
   "source": [
    "a(1,2,3)"
   ]
  },
  {
   "cell_type": "code",
   "execution_count": 333,
   "metadata": {},
   "outputs": [],
   "source": [
    "def foo(x,*y,**a):\n",
    "    x=(x,)\n",
    "    print(a)\n",
    "    return print"
   ]
  },
  {
   "cell_type": "code",
   "execution_count": 338,
   "metadata": {},
   "outputs": [
    {
     "name": "stdout",
     "output_type": "stream",
     "text": [
      "{'t': 3, 'y': 2}\n"
     ]
    }
   ],
   "source": [
    "mera_print = foo(3,1,2,3,4,t=3,y=2)\n"
   ]
  },
  {
   "cell_type": "code",
   "execution_count": 339,
   "metadata": {},
   "outputs": [
    {
     "name": "stdout",
     "output_type": "stream",
     "text": [
      "hello\n"
     ]
    }
   ],
   "source": [
    "mera_print('hello')"
   ]
  },
  {
   "cell_type": "code",
   "execution_count": 353,
   "metadata": {},
   "outputs": [],
   "source": [
    "a = list(filter(lambda x :x=='h',('hello hi how are you')))"
   ]
  },
  {
   "cell_type": "code",
   "execution_count": 354,
   "metadata": {},
   "outputs": [
    {
     "data": {
      "text/plain": [
       "['h', 'h', 'h']"
      ]
     },
     "execution_count": 354,
     "metadata": {},
     "output_type": "execute_result"
    }
   ],
   "source": []
  },
  {
   "cell_type": "code",
   "execution_count": 7,
   "metadata": {},
   "outputs": [
    {
     "ename": "TypeError",
     "evalue": "'str' object does not support item assignment",
     "output_type": "error",
     "traceback": [
      "\u001b[1;31m---------------------------------------------------------------------------\u001b[0m",
      "\u001b[1;31mTypeError\u001b[0m                                 Traceback (most recent call last)",
      "Cell \u001b[1;32mIn[7], line 2\u001b[0m\n\u001b[0;32m      1\u001b[0m a\u001b[38;5;241m=\u001b[39m\u001b[38;5;124m'\u001b[39m\u001b[38;5;124mhello1\u001b[39m\u001b[38;5;124m'\u001b[39m\n\u001b[1;32m----> 2\u001b[0m \u001b[43ma\u001b[49m\u001b[43m[\u001b[49m\u001b[38;5;241;43m1\u001b[39;49m\u001b[43m]\u001b[49m\u001b[38;5;241m=\u001b[39m\u001b[38;5;124m'\u001b[39m\u001b[38;5;124mh\u001b[39m\u001b[38;5;124m'\u001b[39m\n\u001b[0;32m      3\u001b[0m \u001b[38;5;28mid\u001b[39m(a)\u001b[38;5;241m==\u001b[39m\u001b[38;5;28mid\u001b[39m(b)\n",
      "\u001b[1;31mTypeError\u001b[0m: 'str' object does not support item assignment"
     ]
    }
   ],
   "source": [
    "a='hello1'\n",
    "a[1]='h'\n",
    "id(a)==id(b)"
   ]
  },
  {
   "cell_type": "code",
   "execution_count": 20,
   "metadata": {},
   "outputs": [
    {
     "name": "stdout",
     "output_type": "stream",
     "text": [
      "<class 'tuple'>\n"
     ]
    },
    {
     "data": {
      "text/plain": [
       "[1, 2, 3, 4, 5, 6, 7, 8, 9, 10]"
      ]
     },
     "execution_count": 20,
     "metadata": {},
     "output_type": "execute_result"
    }
   ],
   "source": [
    "print(type((1,2,3,4,5,6,7,8)))\n",
    "list('hello world')\n",
    "list(range(1,11))"
   ]
  },
  {
   "cell_type": "code",
   "execution_count": 17,
   "metadata": {},
   "outputs": [
    {
     "data": {
      "text/plain": [
       "list"
      ]
     },
     "execution_count": 17,
     "metadata": {},
     "output_type": "execute_result"
    }
   ],
   "source": [
    "type(list())"
   ]
  },
  {
   "cell_type": "code",
   "execution_count": 27,
   "metadata": {},
   "outputs": [],
   "source": [
    "a=tuple(range(10))"
   ]
  },
  {
   "cell_type": "code",
   "execution_count": 36,
   "metadata": {},
   "outputs": [
    {
     "ename": "TypeError",
     "evalue": "'int' object is not iterable",
     "output_type": "error",
     "traceback": [
      "\u001b[1;31m---------------------------------------------------------------------------\u001b[0m",
      "\u001b[1;31mTypeError\u001b[0m                                 Traceback (most recent call last)",
      "Cell \u001b[1;32mIn[36], line 1\u001b[0m\n\u001b[1;32m----> 1\u001b[0m a\u001b[38;5;241m=\u001b[39m \u001b[38;5;28;43mlist\u001b[39;49m\u001b[43m(\u001b[49m\u001b[38;5;241;43m1\u001b[39;49m\u001b[43m)\u001b[49m\n",
      "\u001b[1;31mTypeError\u001b[0m: 'int' object is not iterable"
     ]
    }
   ],
   "source": [
    "a= list(range(10))"
   ]
  },
  {
   "cell_type": "code",
   "execution_count": 35,
   "metadata": {},
   "outputs": [
    {
     "name": "stdout",
     "output_type": "stream",
     "text": [
      "0 1 2 3 4 5 6 7 8 9 "
     ]
    }
   ],
   "source": [
    "for i in a:\n",
    "    print(i,end=' ')"
   ]
  },
  {
   "cell_type": "code",
   "execution_count": 39,
   "metadata": {},
   "outputs": [],
   "source": [
    "en =enumerate(a)"
   ]
  },
  {
   "cell_type": "code",
   "execution_count": 40,
   "metadata": {},
   "outputs": [
    {
     "data": {
      "text/plain": [
       "enumerate"
      ]
     },
     "execution_count": 40,
     "metadata": {},
     "output_type": "execute_result"
    }
   ],
   "source": [
    "type(en)"
   ]
  },
  {
   "cell_type": "code",
   "execution_count": 46,
   "metadata": {},
   "outputs": [],
   "source": [
    "a=list(range(10,21))"
   ]
  },
  {
   "cell_type": "code",
   "execution_count": 51,
   "metadata": {},
   "outputs": [
    {
     "name": "stdout",
     "output_type": "stream",
     "text": [
      "0\n",
      "1\n",
      "2\n",
      "3\n",
      "4\n",
      "5\n",
      "6\n",
      "7\n",
      "8\n",
      "9\n"
     ]
    }
   ],
   "source": [
    "for i in range(10):\n",
    "    print(i)\n",
    "    i=9\n",
    "    "
   ]
  },
  {
   "cell_type": "code",
   "execution_count": 54,
   "metadata": {},
   "outputs": [
    {
     "name": "stdout",
     "output_type": "stream",
     "text": [
      "index: 0 value: h\n",
      "index: 1 value: e\n",
      "index: 2 value: l\n",
      "index: 3 value: l\n",
      "index: 4 value: o\n",
      "index: 5 value:  \n",
      "index: 6 value: w\n",
      "index: 7 value: o\n",
      "index: 8 value: r\n",
      "index: 9 value: l\n",
      "index: 10 value: d\n"
     ]
    }
   ],
   "source": [
    "for index,value in enumerate('hello world'):\n",
    "    print('index:',index,'value:',value)"
   ]
  },
  {
   "cell_type": "code",
   "execution_count": 56,
   "metadata": {},
   "outputs": [],
   "source": [
    "a[5]=20"
   ]
  },
  {
   "cell_type": "code",
   "execution_count": 125,
   "metadata": {},
   "outputs": [],
   "source": [
    "a = ['a',1,'hello',10.3,12+1j,[1,[2,4,2,5,6],3,4],(2,3,4,4,3),{'hi':'hi'},lambda x:x**2,print]"
   ]
  },
  {
   "cell_type": "code",
   "execution_count": 127,
   "metadata": {},
   "outputs": [
    {
     "name": "stdout",
     "output_type": "stream",
     "text": [
      "hello world\n"
     ]
    }
   ],
   "source": [
    "a[-1]('hello world')"
   ]
  },
  {
   "cell_type": "code",
   "execution_count": 117,
   "metadata": {},
   "outputs": [],
   "source": [
    "hash('htuafhwrflrfrnfjnernvrnvnvner;iouj')\n",
    "db= hash('12345678@')"
   ]
  },
  {
   "cell_type": "code",
   "execution_count": 123,
   "metadata": {},
   "outputs": [],
   "source": [
    "password='12345678@'"
   ]
  },
  {
   "cell_type": "code",
   "execution_count": 124,
   "metadata": {},
   "outputs": [
    {
     "data": {
      "text/plain": [
       "True"
      ]
     },
     "execution_count": 124,
     "metadata": {},
     "output_type": "execute_result"
    }
   ],
   "source": [
    "db==hash(password)"
   ]
  },
  {
   "cell_type": "code",
   "execution_count": 188,
   "metadata": {},
   "outputs": [
    {
     "name": "stdout",
     "output_type": "stream",
     "text": [
      "[1, 2, 3, 4, 5, 6]\n",
      "[1, 2, 3, 4, 5, 6]\n"
     ]
    }
   ],
   "source": [
    "a=[1,2,3,4,5,6]\n",
    "b=a.copy()\n",
    "print(a,b,sep='\\n')"
   ]
  },
  {
   "cell_type": "code",
   "execution_count": 189,
   "metadata": {},
   "outputs": [
    {
     "name": "stdout",
     "output_type": "stream",
     "text": [
      "[1, 2, 3, 4, 5, 6]\n",
      "[1, 2, 3, 4, 5, 6, 7, 8]\n",
      "2307454858688\n",
      "2307454190080\n"
     ]
    }
   ],
   "source": [
    "b.append(7)\n",
    "b.append(8)\n",
    "print(a,b,sep='\\n')\n",
    "print(id(a),id(b),sep='\\n')"
   ]
  },
  {
   "cell_type": "code",
   "execution_count": 233,
   "metadata": {},
   "outputs": [
    {
     "ename": "ValueError",
     "evalue": "2 is not in list",
     "output_type": "error",
     "traceback": [
      "\u001b[1;31m---------------------------------------------------------------------------\u001b[0m",
      "\u001b[1;31mValueError\u001b[0m                                Traceback (most recent call last)",
      "Cell \u001b[1;32mIn[233], line 2\u001b[0m\n\u001b[0;32m      1\u001b[0m a\u001b[38;5;241m=\u001b[39m[\u001b[38;5;241m0\u001b[39m,\u001b[38;5;241m1\u001b[39m,\u001b[38;5;241m2\u001b[39m,\u001b[38;5;241m3\u001b[39m,\u001b[38;5;241m4\u001b[39m,\u001b[38;5;241m1\u001b[39m,\u001b[38;5;241m2\u001b[39m,\u001b[38;5;241m3\u001b[39m,\u001b[38;5;241m4\u001b[39m]\n\u001b[1;32m----> 2\u001b[0m \u001b[43ma\u001b[49m\u001b[38;5;241;43m.\u001b[39;49m\u001b[43mindex\u001b[49m\u001b[43m(\u001b[49m\u001b[38;5;241;43m2\u001b[39;49m\u001b[43m,\u001b[49m\u001b[38;5;241;43m3\u001b[39;49m\u001b[43m,\u001b[49m\u001b[38;5;241;43m5\u001b[39;49m\u001b[43m)\u001b[49m\n",
      "\u001b[1;31mValueError\u001b[0m: 2 is not in list"
     ]
    }
   ],
   "source": [
    "a=[0,1,2,3,4,1,2,3,4]\n",
    "a.index(2,3,5)\n"
   ]
  },
  {
   "cell_type": "code",
   "execution_count": 234,
   "metadata": {},
   "outputs": [
    {
     "name": "stdout",
     "output_type": "stream",
     "text": [
      "None\n",
      "[0, 1, 2, 3, 4, 1, 2, 3, 4, 12]\n",
      "2\n",
      "None\n",
      "1\n"
     ]
    },
    {
     "ename": "TypeError",
     "evalue": "'str' object cannot be interpreted as an integer",
     "output_type": "error",
     "traceback": [
      "\u001b[1;31m---------------------------------------------------------------------------\u001b[0m",
      "\u001b[1;31mTypeError\u001b[0m                                 Traceback (most recent call last)",
      "Cell \u001b[1;32mIn[234], line 6\u001b[0m\n\u001b[0;32m      4\u001b[0m \u001b[38;5;28mprint\u001b[39m(a\u001b[38;5;241m.\u001b[39mextend([\u001b[38;5;241m1\u001b[39m,\u001b[38;5;241m2\u001b[39m,\u001b[38;5;241m3\u001b[39m,\u001b[38;5;241m4\u001b[39m]))\n\u001b[0;32m      5\u001b[0m \u001b[38;5;28mprint\u001b[39m(a\u001b[38;5;241m.\u001b[39mindex(\u001b[38;5;241m1\u001b[39m))\n\u001b[1;32m----> 6\u001b[0m \u001b[38;5;28mprint\u001b[39m(\u001b[43ma\u001b[49m\u001b[38;5;241;43m.\u001b[39;49m\u001b[43minsert\u001b[49m\u001b[43m(\u001b[49m\u001b[38;5;124;43m'\u001b[39;49m\u001b[38;5;124;43mpos\u001b[39;49m\u001b[38;5;124;43m'\u001b[39;49m\u001b[43m,\u001b[49m\u001b[38;5;124;43m'\u001b[39;49m\u001b[38;5;124;43mval\u001b[39;49m\u001b[38;5;124;43m'\u001b[39;49m\u001b[43m)\u001b[49m)\n\u001b[0;32m      7\u001b[0m \u001b[38;5;28mprint\u001b[39m(a\u001b[38;5;241m.\u001b[39mpop())\n\u001b[0;32m      8\u001b[0m \u001b[38;5;28mprint\u001b[39m(a\u001b[38;5;241m.\u001b[39mremove())\n",
      "\u001b[1;31mTypeError\u001b[0m: 'str' object cannot be interpreted as an integer"
     ]
    }
   ],
   "source": [
    "print(a.append(12))\n",
    "print(a.copy())\n",
    "print(a.count(1))\n",
    "print(a.extend([1,2,3,4]))\n",
    "print(a.index(1))\n",
    "print(a.insert('pos','val'))\n",
    "print(a.pop())\n",
    "print(a.remove())\n",
    "print(a.reverse())\n",
    "print(a.sort())\n",
    "print(a.clear())\n"
   ]
  },
  {
   "cell_type": "code",
   "execution_count": null,
   "metadata": {},
   "outputs": [],
   "source": [
    "def position_of_char(char,string):\n",
    "    result = []\n",
    "    for index,val in enumerate(string):\n",
    "        if val == char:\n",
    "            result.append(index)\n",
    "    return result,len(result)\n",
    "position_of_char('l','hello world')\n"
   ]
  },
  {
   "cell_type": "code",
   "execution_count": 240,
   "metadata": {},
   "outputs": [
    {
     "data": {
      "text/plain": [
       "[2, 3, 9]"
      ]
     },
     "execution_count": 240,
     "metadata": {},
     "output_type": "execute_result"
    }
   ],
   "source": [
    "def position_of_char(char,string):\n",
    "    # string = list(string)\n",
    "    result =[]\n",
    "    for i in range(len(string)):\n",
    "        if string[i]==char:\n",
    "            result.append(i)\n",
    "    return result\n",
    "\n",
    "\n",
    "position_of_char('l','hello world')\n",
    "\n",
    "            \n",
    "        "
   ]
  },
  {
   "cell_type": "code",
   "execution_count": 261,
   "metadata": {},
   "outputs": [
    {
     "data": {
      "text/plain": [
       "('a', 5)"
      ]
     },
     "execution_count": 261,
     "metadata": {},
     "output_type": "execute_result"
    }
   ],
   "source": [
    "s='saivamshi alugandula'\n",
    "def max_occuring_char(string):\n",
    "    result = dict()\n",
    "    for char in string:\n",
    "        if char in result:\n",
    "            result[char] +=1\n",
    "        else:\n",
    "            result[char]=1\n",
    "    maximum=max(result.values())\n",
    "    # return result\n",
    "    for key,val in result.items():\n",
    "        if val==maximum:\n",
    "            return key,val\n",
    "max_occuring_char(s)"
   ]
  },
  {
   "cell_type": "code",
   "execution_count": 263,
   "metadata": {},
   "outputs": [
    {
     "data": {
      "text/plain": [
       "1"
      ]
     },
     "execution_count": 263,
     "metadata": {},
     "output_type": "execute_result"
    }
   ],
   "source": [
    "a=(1,)\n",
    "\n",
    "a.count(1)"
   ]
  },
  {
   "cell_type": "code",
   "execution_count": null,
   "metadata": {},
   "outputs": [],
   "source": []
  }
 ],
 "metadata": {
  "kernelspec": {
   "display_name": "Python 3",
   "language": "python",
   "name": "python3"
  },
  "language_info": {
   "codemirror_mode": {
    "name": "ipython",
    "version": 3
   },
   "file_extension": ".py",
   "mimetype": "text/x-python",
   "name": "python",
   "nbconvert_exporter": "python",
   "pygments_lexer": "ipython3",
   "version": "3.12.3"
  }
 },
 "nbformat": 4,
 "nbformat_minor": 2
}
